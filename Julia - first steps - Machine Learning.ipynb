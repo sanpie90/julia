{
 "cells": [
  {
   "cell_type": "markdown",
   "metadata": {},
   "source": [
    "# Machine Learning"
   ]
  },
  {
   "cell_type": "markdown",
   "metadata": {},
   "source": [
    "## Read CSV"
   ]
  },
  {
   "cell_type": "code",
   "execution_count": 1,
   "metadata": {
    "ExecuteTime": {
     "end_time": "2019-06-29T13:35:28.371000+02:00",
     "start_time": "2019-06-29T11:35:19.353Z"
    }
   },
   "outputs": [
    {
     "name": "stdout",
     "output_type": "stream",
     "text": [
      "\u001b[32m\u001b[1m  Updating\u001b[22m\u001b[39m registry at `~/.julia/registries/General`\n",
      "\u001b[32m\u001b[1m  Updating\u001b[22m\u001b[39m git-repo `https://github.com/JuliaRegistries/General.git`\n",
      "\u001b[?25l\u001b[2K\u001b[?25h\u001b[32m\u001b[1m Resolving\u001b[22m\u001b[39m package versions...\n",
      "\u001b[32m\u001b[1m  Updating\u001b[22m\u001b[39m `~/.julia/environments/v1.1/Project.toml`\n",
      "\u001b[90m [no changes]\u001b[39m\n",
      "\u001b[32m\u001b[1m  Updating\u001b[22m\u001b[39m `~/.julia/environments/v1.1/Manifest.toml`\n",
      "\u001b[90m [no changes]\u001b[39m\n"
     ]
    }
   ],
   "source": [
    "using Pkg\n",
    "Pkg.add(\"DataFrames\")"
   ]
  },
  {
   "cell_type": "code",
   "execution_count": 2,
   "metadata": {
    "ExecuteTime": {
     "end_time": "2019-06-29T13:35:31.258000+02:00",
     "start_time": "2019-06-29T11:35:19.355Z"
    }
   },
   "outputs": [],
   "source": [
    "using DataFrames"
   ]
  },
  {
   "cell_type": "markdown",
   "metadata": {},
   "source": [
    "### Specify dataset (train.csv, test.csv) directory with command <em>cd(your/working/directory)</em>"
   ]
  },
  {
   "cell_type": "code",
   "execution_count": null,
   "metadata": {
    "ExecuteTime": {
     "end_time": "2019-06-29T13:05:41.566000+02:00",
     "start_time": "2019-06-29T11:05:41.487Z"
    },
    "solution2": "hidden",
    "solution2_first": true
   },
   "outputs": [],
   "source": []
  },
  {
   "cell_type": "code",
   "execution_count": 3,
   "metadata": {
    "ExecuteTime": {
     "end_time": "2019-06-29T13:35:32.095000+02:00",
     "start_time": "2019-06-29T11:35:19.358Z"
    },
    "solution2": "hidden"
   },
   "outputs": [],
   "source": [
    "# par exemple\n",
    "cd(\"/Users/sandrapietrowska/Documents/xke/julia/\")"
   ]
  },
  {
   "cell_type": "markdown",
   "metadata": {},
   "source": [
    "### Use CSV package"
   ]
  },
  {
   "cell_type": "code",
   "execution_count": null,
   "metadata": {
    "solution2": "hidden",
    "solution2_first": true
   },
   "outputs": [],
   "source": []
  },
  {
   "cell_type": "code",
   "execution_count": 4,
   "metadata": {
    "ExecuteTime": {
     "end_time": "2019-06-29T13:35:41.661000+02:00",
     "start_time": "2019-06-29T11:35:19.363Z"
    },
    "solution2": "hidden"
   },
   "outputs": [
    {
     "name": "stdout",
     "output_type": "stream",
     "text": [
      "\u001b[32m\u001b[1m Resolving\u001b[22m\u001b[39m package versions...\n",
      "\u001b[32m\u001b[1m  Updating\u001b[22m\u001b[39m `~/.julia/environments/v1.1/Project.toml`\n",
      "\u001b[90m [no changes]\u001b[39m\n",
      "\u001b[32m\u001b[1m  Updating\u001b[22m\u001b[39m `~/.julia/environments/v1.1/Manifest.toml`\n",
      "\u001b[90m [no changes]\u001b[39m\n"
     ]
    }
   ],
   "source": [
    "using Pkg \n",
    "Pkg.add(\"CSV\")\n",
    "using CSV"
   ]
  },
  {
   "cell_type": "code",
   "execution_count": 5,
   "metadata": {
    "ExecuteTime": {
     "end_time": "2019-06-29T13:35:51.107000+02:00",
     "start_time": "2019-06-29T11:35:19.366Z"
    }
   },
   "outputs": [
    {
     "data": {
      "text/html": [
       "<table class=\"data-frame\"><thead><tr><th></th><th>Loan_ID</th><th>Gender</th><th>Married</th><th>Dependents</th><th>Education</th><th>Self_Employed</th><th>ApplicantIncome</th></tr><tr><th></th><th>String</th><th>String⍰</th><th>String⍰</th><th>String⍰</th><th>String</th><th>String⍰</th><th>Int64</th></tr></thead><tbody><p>614 rows × 13 columns (omitted printing of 6 columns)</p><tr><th>1</th><td>LP001002</td><td>Male</td><td>No</td><td>0</td><td>Graduate</td><td>No</td><td>5849</td></tr><tr><th>2</th><td>LP001003</td><td>Male</td><td>Yes</td><td>1</td><td>Graduate</td><td>No</td><td>4583</td></tr><tr><th>3</th><td>LP001005</td><td>Male</td><td>Yes</td><td>0</td><td>Graduate</td><td>Yes</td><td>3000</td></tr><tr><th>4</th><td>LP001006</td><td>Male</td><td>Yes</td><td>0</td><td>Not Graduate</td><td>No</td><td>2583</td></tr><tr><th>5</th><td>LP001008</td><td>Male</td><td>No</td><td>0</td><td>Graduate</td><td>No</td><td>6000</td></tr><tr><th>6</th><td>LP001011</td><td>Male</td><td>Yes</td><td>2</td><td>Graduate</td><td>Yes</td><td>5417</td></tr><tr><th>7</th><td>LP001013</td><td>Male</td><td>Yes</td><td>0</td><td>Not Graduate</td><td>No</td><td>2333</td></tr><tr><th>8</th><td>LP001014</td><td>Male</td><td>Yes</td><td>3+</td><td>Graduate</td><td>No</td><td>3036</td></tr><tr><th>9</th><td>LP001018</td><td>Male</td><td>Yes</td><td>2</td><td>Graduate</td><td>No</td><td>4006</td></tr><tr><th>10</th><td>LP001020</td><td>Male</td><td>Yes</td><td>1</td><td>Graduate</td><td>No</td><td>12841</td></tr><tr><th>11</th><td>LP001024</td><td>Male</td><td>Yes</td><td>2</td><td>Graduate</td><td>No</td><td>3200</td></tr><tr><th>12</th><td>LP001027</td><td>Male</td><td>Yes</td><td>2</td><td>Graduate</td><td>missing</td><td>2500</td></tr><tr><th>13</th><td>LP001028</td><td>Male</td><td>Yes</td><td>2</td><td>Graduate</td><td>No</td><td>3073</td></tr><tr><th>14</th><td>LP001029</td><td>Male</td><td>No</td><td>0</td><td>Graduate</td><td>No</td><td>1853</td></tr><tr><th>15</th><td>LP001030</td><td>Male</td><td>Yes</td><td>2</td><td>Graduate</td><td>No</td><td>1299</td></tr><tr><th>16</th><td>LP001032</td><td>Male</td><td>No</td><td>0</td><td>Graduate</td><td>No</td><td>4950</td></tr><tr><th>17</th><td>LP001034</td><td>Male</td><td>No</td><td>1</td><td>Not Graduate</td><td>No</td><td>3596</td></tr><tr><th>18</th><td>LP001036</td><td>Female</td><td>No</td><td>0</td><td>Graduate</td><td>No</td><td>3510</td></tr><tr><th>19</th><td>LP001038</td><td>Male</td><td>Yes</td><td>0</td><td>Not Graduate</td><td>No</td><td>4887</td></tr><tr><th>20</th><td>LP001041</td><td>Male</td><td>Yes</td><td>0</td><td>Graduate</td><td>missing</td><td>2600</td></tr><tr><th>21</th><td>LP001043</td><td>Male</td><td>Yes</td><td>0</td><td>Not Graduate</td><td>No</td><td>7660</td></tr><tr><th>22</th><td>LP001046</td><td>Male</td><td>Yes</td><td>1</td><td>Graduate</td><td>No</td><td>5955</td></tr><tr><th>23</th><td>LP001047</td><td>Male</td><td>Yes</td><td>0</td><td>Not Graduate</td><td>No</td><td>2600</td></tr><tr><th>24</th><td>LP001050</td><td>missing</td><td>Yes</td><td>2</td><td>Not Graduate</td><td>No</td><td>3365</td></tr><tr><th>25</th><td>LP001052</td><td>Male</td><td>Yes</td><td>1</td><td>Graduate</td><td>missing</td><td>3717</td></tr><tr><th>26</th><td>LP001066</td><td>Male</td><td>Yes</td><td>0</td><td>Graduate</td><td>Yes</td><td>9560</td></tr><tr><th>27</th><td>LP001068</td><td>Male</td><td>Yes</td><td>0</td><td>Graduate</td><td>No</td><td>2799</td></tr><tr><th>28</th><td>LP001073</td><td>Male</td><td>Yes</td><td>2</td><td>Not Graduate</td><td>No</td><td>4226</td></tr><tr><th>29</th><td>LP001086</td><td>Male</td><td>No</td><td>0</td><td>Not Graduate</td><td>No</td><td>1442</td></tr><tr><th>30</th><td>LP001087</td><td>Female</td><td>No</td><td>2</td><td>Graduate</td><td>missing</td><td>3750</td></tr><tr><th>&vellip;</th><td>&vellip;</td><td>&vellip;</td><td>&vellip;</td><td>&vellip;</td><td>&vellip;</td><td>&vellip;</td><td>&vellip;</td></tr></tbody></table>"
      ],
      "text/latex": [
       "\\begin{tabular}{r|cccccccc}\n",
       "\t& Loan\\_ID & Gender & Married & Dependents & Education & Self\\_Employed & ApplicantIncome & \\\\\n",
       "\t\\hline\n",
       "\t& String & String⍰ & String⍰ & String⍰ & String & String⍰ & Int64 & \\\\\n",
       "\t\\hline\n",
       "\t1 & LP001002 & Male & No & 0 & Graduate & No & 5849 & $\\dots$ \\\\\n",
       "\t2 & LP001003 & Male & Yes & 1 & Graduate & No & 4583 & $\\dots$ \\\\\n",
       "\t3 & LP001005 & Male & Yes & 0 & Graduate & Yes & 3000 & $\\dots$ \\\\\n",
       "\t4 & LP001006 & Male & Yes & 0 & Not Graduate & No & 2583 & $\\dots$ \\\\\n",
       "\t5 & LP001008 & Male & No & 0 & Graduate & No & 6000 & $\\dots$ \\\\\n",
       "\t6 & LP001011 & Male & Yes & 2 & Graduate & Yes & 5417 & $\\dots$ \\\\\n",
       "\t7 & LP001013 & Male & Yes & 0 & Not Graduate & No & 2333 & $\\dots$ \\\\\n",
       "\t8 & LP001014 & Male & Yes & 3+ & Graduate & No & 3036 & $\\dots$ \\\\\n",
       "\t9 & LP001018 & Male & Yes & 2 & Graduate & No & 4006 & $\\dots$ \\\\\n",
       "\t10 & LP001020 & Male & Yes & 1 & Graduate & No & 12841 & $\\dots$ \\\\\n",
       "\t11 & LP001024 & Male & Yes & 2 & Graduate & No & 3200 & $\\dots$ \\\\\n",
       "\t12 & LP001027 & Male & Yes & 2 & Graduate &  & 2500 & $\\dots$ \\\\\n",
       "\t13 & LP001028 & Male & Yes & 2 & Graduate & No & 3073 & $\\dots$ \\\\\n",
       "\t14 & LP001029 & Male & No & 0 & Graduate & No & 1853 & $\\dots$ \\\\\n",
       "\t15 & LP001030 & Male & Yes & 2 & Graduate & No & 1299 & $\\dots$ \\\\\n",
       "\t16 & LP001032 & Male & No & 0 & Graduate & No & 4950 & $\\dots$ \\\\\n",
       "\t17 & LP001034 & Male & No & 1 & Not Graduate & No & 3596 & $\\dots$ \\\\\n",
       "\t18 & LP001036 & Female & No & 0 & Graduate & No & 3510 & $\\dots$ \\\\\n",
       "\t19 & LP001038 & Male & Yes & 0 & Not Graduate & No & 4887 & $\\dots$ \\\\\n",
       "\t20 & LP001041 & Male & Yes & 0 & Graduate &  & 2600 & $\\dots$ \\\\\n",
       "\t21 & LP001043 & Male & Yes & 0 & Not Graduate & No & 7660 & $\\dots$ \\\\\n",
       "\t22 & LP001046 & Male & Yes & 1 & Graduate & No & 5955 & $\\dots$ \\\\\n",
       "\t23 & LP001047 & Male & Yes & 0 & Not Graduate & No & 2600 & $\\dots$ \\\\\n",
       "\t24 & LP001050 &  & Yes & 2 & Not Graduate & No & 3365 & $\\dots$ \\\\\n",
       "\t25 & LP001052 & Male & Yes & 1 & Graduate &  & 3717 & $\\dots$ \\\\\n",
       "\t26 & LP001066 & Male & Yes & 0 & Graduate & Yes & 9560 & $\\dots$ \\\\\n",
       "\t27 & LP001068 & Male & Yes & 0 & Graduate & No & 2799 & $\\dots$ \\\\\n",
       "\t28 & LP001073 & Male & Yes & 2 & Not Graduate & No & 4226 & $\\dots$ \\\\\n",
       "\t29 & LP001086 & Male & No & 0 & Not Graduate & No & 1442 & $\\dots$ \\\\\n",
       "\t30 & LP001087 & Female & No & 2 & Graduate &  & 3750 & $\\dots$ \\\\\n",
       "\t$\\dots$ & $\\dots$ & $\\dots$ & $\\dots$ & $\\dots$ & $\\dots$ & $\\dots$ & $\\dots$ &  \\\\\n",
       "\\end{tabular}\n"
      ],
      "text/plain": [
       "614×13 DataFrame. Omitted printing of 8 columns\n",
       "│ Row │ Loan_ID  │ Gender  │ Married │ Dependents │ Education    │\n",
       "│     │ \u001b[90mString\u001b[39m   │ \u001b[90mString⍰\u001b[39m │ \u001b[90mString⍰\u001b[39m │ \u001b[90mString⍰\u001b[39m    │ \u001b[90mString\u001b[39m       │\n",
       "├─────┼──────────┼─────────┼─────────┼────────────┼──────────────┤\n",
       "│ 1   │ LP001002 │ Male    │ No      │ 0          │ Graduate     │\n",
       "│ 2   │ LP001003 │ Male    │ Yes     │ 1          │ Graduate     │\n",
       "│ 3   │ LP001005 │ Male    │ Yes     │ 0          │ Graduate     │\n",
       "│ 4   │ LP001006 │ Male    │ Yes     │ 0          │ Not Graduate │\n",
       "│ 5   │ LP001008 │ Male    │ No      │ 0          │ Graduate     │\n",
       "│ 6   │ LP001011 │ Male    │ Yes     │ 2          │ Graduate     │\n",
       "│ 7   │ LP001013 │ Male    │ Yes     │ 0          │ Not Graduate │\n",
       "│ 8   │ LP001014 │ Male    │ Yes     │ 3+         │ Graduate     │\n",
       "│ 9   │ LP001018 │ Male    │ Yes     │ 2          │ Graduate     │\n",
       "│ 10  │ LP001020 │ Male    │ Yes     │ 1          │ Graduate     │\n",
       "⋮\n",
       "│ 604 │ LP002958 │ Male    │ No      │ 0          │ Graduate     │\n",
       "│ 605 │ LP002959 │ Female  │ Yes     │ 1          │ Graduate     │\n",
       "│ 606 │ LP002960 │ Male    │ Yes     │ 0          │ Not Graduate │\n",
       "│ 607 │ LP002961 │ Male    │ Yes     │ 1          │ Graduate     │\n",
       "│ 608 │ LP002964 │ Male    │ Yes     │ 2          │ Not Graduate │\n",
       "│ 609 │ LP002974 │ Male    │ Yes     │ 0          │ Graduate     │\n",
       "│ 610 │ LP002978 │ Female  │ No      │ 0          │ Graduate     │\n",
       "│ 611 │ LP002979 │ Male    │ Yes     │ 3+         │ Graduate     │\n",
       "│ 612 │ LP002983 │ Male    │ Yes     │ 1          │ Graduate     │\n",
       "│ 613 │ LP002984 │ Male    │ Yes     │ 2          │ Graduate     │\n",
       "│ 614 │ LP002990 │ Female  │ No      │ 0          │ Graduate     │"
      ]
     },
     "execution_count": 5,
     "metadata": {},
     "output_type": "execute_result"
    }
   ],
   "source": [
    "train = CSV.read(\"julia_data/train.csv\")\n",
    "test = CSV.read(\"julia_data/train.csv\")"
   ]
  },
  {
   "cell_type": "markdown",
   "metadata": {},
   "source": [
    "### Use </em>describe</em> function from StatsBase package to see the basic statistics "
   ]
  },
  {
   "cell_type": "code",
   "execution_count": null,
   "metadata": {
    "solution2": "hidden",
    "solution2_first": true
   },
   "outputs": [],
   "source": []
  },
  {
   "cell_type": "code",
   "execution_count": 6,
   "metadata": {
    "ExecuteTime": {
     "end_time": "2019-06-29T13:35:56.863000+02:00",
     "start_time": "2019-06-29T11:35:19.369Z"
    },
    "solution2": "hidden"
   },
   "outputs": [
    {
     "name": "stdout",
     "output_type": "stream",
     "text": [
      "\u001b[32m\u001b[1m Resolving\u001b[22m\u001b[39m package versions...\n",
      "\u001b[32m\u001b[1m  Updating\u001b[22m\u001b[39m `~/.julia/environments/v1.1/Project.toml`\n",
      "\u001b[90m [no changes]\u001b[39m\n",
      "\u001b[32m\u001b[1m  Updating\u001b[22m\u001b[39m `~/.julia/environments/v1.1/Manifest.toml`\n",
      "\u001b[90m [no changes]\u001b[39m\n"
     ]
    }
   ],
   "source": [
    "Pkg.add(\"StatsBase\")\n",
    "using StatsBase "
   ]
  },
  {
   "cell_type": "code",
   "execution_count": 7,
   "metadata": {
    "ExecuteTime": {
     "end_time": "2019-06-29T13:36:00.811000+02:00",
     "start_time": "2019-06-29T11:35:19.372Z"
    },
    "solution2": "hidden"
   },
   "outputs": [
    {
     "data": {
      "text/html": [
       "<table class=\"data-frame\"><thead><tr><th></th><th>variable</th><th>mean</th><th>min</th><th>median</th><th>max</th><th>nunique</th><th>nmissing</th></tr><tr><th></th><th>Symbol</th><th>Union…</th><th>Any</th><th>Union…</th><th>Any</th><th>Union…</th><th>Union…</th></tr></thead><tbody><p>13 rows × 8 columns (omitted printing of 1 columns)</p><tr><th>1</th><td>Loan_ID</td><td></td><td>LP001002</td><td></td><td>LP002990</td><td>614</td><td></td></tr><tr><th>2</th><td>Gender</td><td></td><td>Female</td><td></td><td>Male</td><td>2</td><td>13</td></tr><tr><th>3</th><td>Married</td><td></td><td>No</td><td></td><td>Yes</td><td>2</td><td>3</td></tr><tr><th>4</th><td>Dependents</td><td></td><td>0</td><td></td><td>3+</td><td>4</td><td>15</td></tr><tr><th>5</th><td>Education</td><td></td><td>Graduate</td><td></td><td>Not Graduate</td><td>2</td><td></td></tr><tr><th>6</th><td>Self_Employed</td><td></td><td>No</td><td></td><td>Yes</td><td>2</td><td>32</td></tr><tr><th>7</th><td>ApplicantIncome</td><td>5403.46</td><td>150</td><td>3812.5</td><td>81000</td><td></td><td></td></tr><tr><th>8</th><td>CoapplicantIncome</td><td>1621.25</td><td>0.0</td><td>1188.5</td><td>41667.0</td><td></td><td></td></tr><tr><th>9</th><td>LoanAmount</td><td>146.412</td><td>9</td><td>128.0</td><td>700</td><td></td><td>22</td></tr><tr><th>10</th><td>Loan_Amount_Term</td><td>342.0</td><td>12</td><td>360.0</td><td>480</td><td></td><td>14</td></tr><tr><th>11</th><td>Credit_History</td><td>0.842199</td><td>0</td><td>1.0</td><td>1</td><td></td><td>50</td></tr><tr><th>12</th><td>Property_Area</td><td></td><td>Rural</td><td></td><td>Urban</td><td>3</td><td></td></tr><tr><th>13</th><td>Loan_Status</td><td></td><td>N</td><td></td><td>Y</td><td>2</td><td></td></tr></tbody></table>"
      ],
      "text/latex": [
       "\\begin{tabular}{r|cccccccc}\n",
       "\t& variable & mean & min & median & max & nunique & nmissing & \\\\\n",
       "\t\\hline\n",
       "\t& Symbol & Union… & Any & Union… & Any & Union… & Union… & \\\\\n",
       "\t\\hline\n",
       "\t1 & Loan\\_ID &  & LP001002 &  & LP002990 & 614 &  & $\\dots$ \\\\\n",
       "\t2 & Gender &  & Female &  & Male & 2 & 13 & $\\dots$ \\\\\n",
       "\t3 & Married &  & No &  & Yes & 2 & 3 & $\\dots$ \\\\\n",
       "\t4 & Dependents &  & 0 &  & 3+ & 4 & 15 & $\\dots$ \\\\\n",
       "\t5 & Education &  & Graduate &  & Not Graduate & 2 &  & $\\dots$ \\\\\n",
       "\t6 & Self\\_Employed &  & No &  & Yes & 2 & 32 & $\\dots$ \\\\\n",
       "\t7 & ApplicantIncome & 5403.46 & 150 & 3812.5 & 81000 &  &  & $\\dots$ \\\\\n",
       "\t8 & CoapplicantIncome & 1621.25 & 0.0 & 1188.5 & 41667.0 &  &  & $\\dots$ \\\\\n",
       "\t9 & LoanAmount & 146.412 & 9 & 128.0 & 700 &  & 22 & $\\dots$ \\\\\n",
       "\t10 & Loan\\_Amount\\_Term & 342.0 & 12 & 360.0 & 480 &  & 14 & $\\dots$ \\\\\n",
       "\t11 & Credit\\_History & 0.842199 & 0 & 1.0 & 1 &  & 50 & $\\dots$ \\\\\n",
       "\t12 & Property\\_Area &  & Rural &  & Urban & 3 &  & $\\dots$ \\\\\n",
       "\t13 & Loan\\_Status &  & N &  & Y & 2 &  & $\\dots$ \\\\\n",
       "\\end{tabular}\n"
      ],
      "text/plain": [
       "13×8 DataFrame. Omitted printing of 3 columns\n",
       "│ Row │ variable          │ mean     │ min      │ median │ max          │\n",
       "│     │ \u001b[90mSymbol\u001b[39m            │ \u001b[90mUnion…\u001b[39m   │ \u001b[90mAny\u001b[39m      │ \u001b[90mUnion…\u001b[39m │ \u001b[90mAny\u001b[39m          │\n",
       "├─────┼───────────────────┼──────────┼──────────┼────────┼──────────────┤\n",
       "│ 1   │ Loan_ID           │          │ LP001002 │        │ LP002990     │\n",
       "│ 2   │ Gender            │          │ Female   │        │ Male         │\n",
       "│ 3   │ Married           │          │ No       │        │ Yes          │\n",
       "│ 4   │ Dependents        │          │ 0        │        │ 3+           │\n",
       "│ 5   │ Education         │          │ Graduate │        │ Not Graduate │\n",
       "│ 6   │ Self_Employed     │          │ No       │        │ Yes          │\n",
       "│ 7   │ ApplicantIncome   │ 5403.46  │ 150      │ 3812.5 │ 81000        │\n",
       "│ 8   │ CoapplicantIncome │ 1621.25  │ 0.0      │ 1188.5 │ 41667.0      │\n",
       "│ 9   │ LoanAmount        │ 146.412  │ 9        │ 128.0  │ 700          │\n",
       "│ 10  │ Loan_Amount_Term  │ 342.0    │ 12       │ 360.0  │ 480          │\n",
       "│ 11  │ Credit_History    │ 0.842199 │ 0        │ 1.0    │ 1            │\n",
       "│ 12  │ Property_Area     │          │ Rural    │        │ Urban        │\n",
       "│ 13  │ Loan_Status       │          │ N        │        │ Y            │"
      ]
     },
     "execution_count": 7,
     "metadata": {},
     "output_type": "execute_result"
    }
   ],
   "source": [
    "describe(train)"
   ]
  },
  {
   "cell_type": "markdown",
   "metadata": {},
   "source": [
    "### Use <em>names</em> function to see the column names"
   ]
  },
  {
   "cell_type": "code",
   "execution_count": null,
   "metadata": {
    "solution2": "hidden",
    "solution2_first": true
   },
   "outputs": [],
   "source": []
  },
  {
   "cell_type": "code",
   "execution_count": 8,
   "metadata": {
    "ExecuteTime": {
     "end_time": "2019-06-29T13:36:01.612000+02:00",
     "start_time": "2019-06-29T11:35:19.374Z"
    },
    "solution2": "hidden"
   },
   "outputs": [
    {
     "data": {
      "text/plain": [
       "13-element Array{Symbol,1}:\n",
       " :Loan_ID          \n",
       " :Gender           \n",
       " :Married          \n",
       " :Dependents       \n",
       " :Education        \n",
       " :Self_Employed    \n",
       " :ApplicantIncome  \n",
       " :CoapplicantIncome\n",
       " :LoanAmount       \n",
       " :Loan_Amount_Term \n",
       " :Credit_History   \n",
       " :Property_Area    \n",
       " :Loan_Status      "
      ]
     },
     "execution_count": 8,
     "metadata": {},
     "output_type": "execute_result"
    }
   ],
   "source": [
    "names(train)"
   ]
  },
  {
   "cell_type": "markdown",
   "metadata": {},
   "source": [
    "### Use <em>size</em> function to see the size of train set"
   ]
  },
  {
   "cell_type": "code",
   "execution_count": null,
   "metadata": {
    "solution2": "hidden",
    "solution2_first": true
   },
   "outputs": [],
   "source": []
  },
  {
   "cell_type": "code",
   "execution_count": 9,
   "metadata": {
    "ExecuteTime": {
     "end_time": "2019-06-29T13:36:01.989000+02:00",
     "start_time": "2019-06-29T11:35:19.378Z"
    },
    "solution2": "hidden"
   },
   "outputs": [
    {
     "data": {
      "text/plain": [
       "(614, 13)"
      ]
     },
     "execution_count": 9,
     "metadata": {},
     "output_type": "execute_result"
    }
   ],
   "source": [
    "size(train)"
   ]
  },
  {
   "cell_type": "markdown",
   "metadata": {},
   "source": [
    "### Use <em>first</em> to display 10 rows"
   ]
  },
  {
   "cell_type": "code",
   "execution_count": null,
   "metadata": {
    "solution2": "hidden",
    "solution2_first": true
   },
   "outputs": [],
   "source": []
  },
  {
   "cell_type": "code",
   "execution_count": 10,
   "metadata": {
    "ExecuteTime": {
     "end_time": "2019-06-29T13:36:02.328000+02:00",
     "start_time": "2019-06-29T11:35:19.381Z"
    },
    "solution2": "hidden"
   },
   "outputs": [
    {
     "data": {
      "text/html": [
       "<table class=\"data-frame\"><thead><tr><th></th><th>Loan_ID</th><th>Gender</th><th>Married</th><th>Dependents</th><th>Education</th><th>Self_Employed</th><th>ApplicantIncome</th></tr><tr><th></th><th>String</th><th>String⍰</th><th>String⍰</th><th>String⍰</th><th>String</th><th>String⍰</th><th>Int64</th></tr></thead><tbody><p>10 rows × 13 columns (omitted printing of 6 columns)</p><tr><th>1</th><td>LP001002</td><td>Male</td><td>No</td><td>0</td><td>Graduate</td><td>No</td><td>5849</td></tr><tr><th>2</th><td>LP001003</td><td>Male</td><td>Yes</td><td>1</td><td>Graduate</td><td>No</td><td>4583</td></tr><tr><th>3</th><td>LP001005</td><td>Male</td><td>Yes</td><td>0</td><td>Graduate</td><td>Yes</td><td>3000</td></tr><tr><th>4</th><td>LP001006</td><td>Male</td><td>Yes</td><td>0</td><td>Not Graduate</td><td>No</td><td>2583</td></tr><tr><th>5</th><td>LP001008</td><td>Male</td><td>No</td><td>0</td><td>Graduate</td><td>No</td><td>6000</td></tr><tr><th>6</th><td>LP001011</td><td>Male</td><td>Yes</td><td>2</td><td>Graduate</td><td>Yes</td><td>5417</td></tr><tr><th>7</th><td>LP001013</td><td>Male</td><td>Yes</td><td>0</td><td>Not Graduate</td><td>No</td><td>2333</td></tr><tr><th>8</th><td>LP001014</td><td>Male</td><td>Yes</td><td>3+</td><td>Graduate</td><td>No</td><td>3036</td></tr><tr><th>9</th><td>LP001018</td><td>Male</td><td>Yes</td><td>2</td><td>Graduate</td><td>No</td><td>4006</td></tr><tr><th>10</th><td>LP001020</td><td>Male</td><td>Yes</td><td>1</td><td>Graduate</td><td>No</td><td>12841</td></tr></tbody></table>"
      ],
      "text/latex": [
       "\\begin{tabular}{r|cccccccc}\n",
       "\t& Loan\\_ID & Gender & Married & Dependents & Education & Self\\_Employed & ApplicantIncome & \\\\\n",
       "\t\\hline\n",
       "\t& String & String⍰ & String⍰ & String⍰ & String & String⍰ & Int64 & \\\\\n",
       "\t\\hline\n",
       "\t1 & LP001002 & Male & No & 0 & Graduate & No & 5849 & $\\dots$ \\\\\n",
       "\t2 & LP001003 & Male & Yes & 1 & Graduate & No & 4583 & $\\dots$ \\\\\n",
       "\t3 & LP001005 & Male & Yes & 0 & Graduate & Yes & 3000 & $\\dots$ \\\\\n",
       "\t4 & LP001006 & Male & Yes & 0 & Not Graduate & No & 2583 & $\\dots$ \\\\\n",
       "\t5 & LP001008 & Male & No & 0 & Graduate & No & 6000 & $\\dots$ \\\\\n",
       "\t6 & LP001011 & Male & Yes & 2 & Graduate & Yes & 5417 & $\\dots$ \\\\\n",
       "\t7 & LP001013 & Male & Yes & 0 & Not Graduate & No & 2333 & $\\dots$ \\\\\n",
       "\t8 & LP001014 & Male & Yes & 3+ & Graduate & No & 3036 & $\\dots$ \\\\\n",
       "\t9 & LP001018 & Male & Yes & 2 & Graduate & No & 4006 & $\\dots$ \\\\\n",
       "\t10 & LP001020 & Male & Yes & 1 & Graduate & No & 12841 & $\\dots$ \\\\\n",
       "\\end{tabular}\n"
      ],
      "text/plain": [
       "10×13 DataFrame. Omitted printing of 8 columns\n",
       "│ Row │ Loan_ID  │ Gender  │ Married │ Dependents │ Education    │\n",
       "│     │ \u001b[90mString\u001b[39m   │ \u001b[90mString⍰\u001b[39m │ \u001b[90mString⍰\u001b[39m │ \u001b[90mString⍰\u001b[39m    │ \u001b[90mString\u001b[39m       │\n",
       "├─────┼──────────┼─────────┼─────────┼────────────┼──────────────┤\n",
       "│ 1   │ LP001002 │ Male    │ No      │ 0          │ Graduate     │\n",
       "│ 2   │ LP001003 │ Male    │ Yes     │ 1          │ Graduate     │\n",
       "│ 3   │ LP001005 │ Male    │ Yes     │ 0          │ Graduate     │\n",
       "│ 4   │ LP001006 │ Male    │ Yes     │ 0          │ Not Graduate │\n",
       "│ 5   │ LP001008 │ Male    │ No      │ 0          │ Graduate     │\n",
       "│ 6   │ LP001011 │ Male    │ Yes     │ 2          │ Graduate     │\n",
       "│ 7   │ LP001013 │ Male    │ Yes     │ 0          │ Not Graduate │\n",
       "│ 8   │ LP001014 │ Male    │ Yes     │ 3+         │ Graduate     │\n",
       "│ 9   │ LP001018 │ Male    │ Yes     │ 2          │ Graduate     │\n",
       "│ 10  │ LP001020 │ Male    │ Yes     │ 1          │ Graduate     │"
      ]
     },
     "execution_count": 10,
     "metadata": {},
     "output_type": "execute_result"
    }
   ],
   "source": [
    "first(train, 10)"
   ]
  },
  {
   "cell_type": "markdown",
   "metadata": {},
   "source": [
    "### Calculate average (mean from Statistics package) income by gender using <em>by</em> function"
   ]
  },
  {
   "cell_type": "code",
   "execution_count": null,
   "metadata": {
    "solution2": "hidden",
    "solution2_first": true
   },
   "outputs": [],
   "source": []
  },
  {
   "cell_type": "code",
   "execution_count": 11,
   "metadata": {
    "ExecuteTime": {
     "end_time": "2019-06-29T13:36:04.976000+02:00",
     "start_time": "2019-06-29T11:35:19.383Z"
    },
    "scrolled": true,
    "solution2": "hidden"
   },
   "outputs": [
    {
     "data": {
      "text/html": [
       "<table class=\"data-frame\"><thead><tr><th></th><th>Gender</th><th>ApplicantIncome_mean</th></tr><tr><th></th><th>String⍰</th><th>Float64</th></tr></thead><tbody><p>3 rows × 2 columns</p><tr><th>1</th><td>Male</td><td>5446.46</td></tr><tr><th>2</th><td>Female</td><td>4643.47</td></tr><tr><th>3</th><td>missing</td><td>10333.5</td></tr></tbody></table>"
      ],
      "text/latex": [
       "\\begin{tabular}{r|cc}\n",
       "\t& Gender & ApplicantIncome\\_mean\\\\\n",
       "\t\\hline\n",
       "\t& String⍰ & Float64\\\\\n",
       "\t\\hline\n",
       "\t1 & Male & 5446.46 \\\\\n",
       "\t2 & Female & 4643.47 \\\\\n",
       "\t3 &  & 10333.5 \\\\\n",
       "\\end{tabular}\n"
      ],
      "text/plain": [
       "3×2 DataFrame\n",
       "│ Row │ Gender  │ ApplicantIncome_mean │\n",
       "│     │ \u001b[90mString⍰\u001b[39m │ \u001b[90mFloat64\u001b[39m              │\n",
       "├─────┼─────────┼──────────────────────┤\n",
       "│ 1   │ Male    │ 5446.46              │\n",
       "│ 2   │ Female  │ 4643.47              │\n",
       "│ 3   │ \u001b[90mmissing\u001b[39m │ 10333.5              │"
      ]
     },
     "execution_count": 11,
     "metadata": {},
     "output_type": "execute_result"
    }
   ],
   "source": [
    "using Statistics\n",
    "by(train, :Gender, :ApplicantIncome => mean)"
   ]
  },
  {
   "cell_type": "markdown",
   "metadata": {},
   "source": [
    "### Drop missing values in train and test set using <em>dropmissing<\\em> function"
   ]
  },
  {
   "cell_type": "code",
   "execution_count": null,
   "metadata": {
    "solution2": "hidden",
    "solution2_first": true
   },
   "outputs": [],
   "source": []
  },
  {
   "cell_type": "code",
   "execution_count": 12,
   "metadata": {
    "ExecuteTime": {
     "end_time": "2019-06-29T13:36:05.915000+02:00",
     "start_time": "2019-06-29T11:35:19.386Z"
    },
    "solution2": "hidden"
   },
   "outputs": [
    {
     "data": {
      "text/html": [
       "<table class=\"data-frame\"><thead><tr><th></th><th>Loan_ID</th><th>Gender</th><th>Married</th><th>Dependents</th><th>Education</th><th>Self_Employed</th><th>ApplicantIncome</th></tr><tr><th></th><th>String</th><th>String</th><th>String</th><th>String</th><th>String</th><th>String</th><th>Int64</th></tr></thead><tbody><p>480 rows × 13 columns (omitted printing of 6 columns)</p><tr><th>1</th><td>LP001003</td><td>Male</td><td>Yes</td><td>1</td><td>Graduate</td><td>No</td><td>4583</td></tr><tr><th>2</th><td>LP001005</td><td>Male</td><td>Yes</td><td>0</td><td>Graduate</td><td>Yes</td><td>3000</td></tr><tr><th>3</th><td>LP001006</td><td>Male</td><td>Yes</td><td>0</td><td>Not Graduate</td><td>No</td><td>2583</td></tr><tr><th>4</th><td>LP001008</td><td>Male</td><td>No</td><td>0</td><td>Graduate</td><td>No</td><td>6000</td></tr><tr><th>5</th><td>LP001011</td><td>Male</td><td>Yes</td><td>2</td><td>Graduate</td><td>Yes</td><td>5417</td></tr><tr><th>6</th><td>LP001013</td><td>Male</td><td>Yes</td><td>0</td><td>Not Graduate</td><td>No</td><td>2333</td></tr><tr><th>7</th><td>LP001014</td><td>Male</td><td>Yes</td><td>3+</td><td>Graduate</td><td>No</td><td>3036</td></tr><tr><th>8</th><td>LP001018</td><td>Male</td><td>Yes</td><td>2</td><td>Graduate</td><td>No</td><td>4006</td></tr><tr><th>9</th><td>LP001020</td><td>Male</td><td>Yes</td><td>1</td><td>Graduate</td><td>No</td><td>12841</td></tr><tr><th>10</th><td>LP001024</td><td>Male</td><td>Yes</td><td>2</td><td>Graduate</td><td>No</td><td>3200</td></tr><tr><th>11</th><td>LP001028</td><td>Male</td><td>Yes</td><td>2</td><td>Graduate</td><td>No</td><td>3073</td></tr><tr><th>12</th><td>LP001029</td><td>Male</td><td>No</td><td>0</td><td>Graduate</td><td>No</td><td>1853</td></tr><tr><th>13</th><td>LP001030</td><td>Male</td><td>Yes</td><td>2</td><td>Graduate</td><td>No</td><td>1299</td></tr><tr><th>14</th><td>LP001032</td><td>Male</td><td>No</td><td>0</td><td>Graduate</td><td>No</td><td>4950</td></tr><tr><th>15</th><td>LP001036</td><td>Female</td><td>No</td><td>0</td><td>Graduate</td><td>No</td><td>3510</td></tr><tr><th>16</th><td>LP001038</td><td>Male</td><td>Yes</td><td>0</td><td>Not Graduate</td><td>No</td><td>4887</td></tr><tr><th>17</th><td>LP001043</td><td>Male</td><td>Yes</td><td>0</td><td>Not Graduate</td><td>No</td><td>7660</td></tr><tr><th>18</th><td>LP001046</td><td>Male</td><td>Yes</td><td>1</td><td>Graduate</td><td>No</td><td>5955</td></tr><tr><th>19</th><td>LP001047</td><td>Male</td><td>Yes</td><td>0</td><td>Not Graduate</td><td>No</td><td>2600</td></tr><tr><th>20</th><td>LP001066</td><td>Male</td><td>Yes</td><td>0</td><td>Graduate</td><td>Yes</td><td>9560</td></tr><tr><th>21</th><td>LP001068</td><td>Male</td><td>Yes</td><td>0</td><td>Graduate</td><td>No</td><td>2799</td></tr><tr><th>22</th><td>LP001073</td><td>Male</td><td>Yes</td><td>2</td><td>Not Graduate</td><td>No</td><td>4226</td></tr><tr><th>23</th><td>LP001086</td><td>Male</td><td>No</td><td>0</td><td>Not Graduate</td><td>No</td><td>1442</td></tr><tr><th>24</th><td>LP001095</td><td>Male</td><td>No</td><td>0</td><td>Graduate</td><td>No</td><td>3167</td></tr><tr><th>25</th><td>LP001097</td><td>Male</td><td>No</td><td>1</td><td>Graduate</td><td>Yes</td><td>4692</td></tr><tr><th>26</th><td>LP001098</td><td>Male</td><td>Yes</td><td>0</td><td>Graduate</td><td>No</td><td>3500</td></tr><tr><th>27</th><td>LP001100</td><td>Male</td><td>No</td><td>3+</td><td>Graduate</td><td>No</td><td>12500</td></tr><tr><th>28</th><td>LP001112</td><td>Female</td><td>Yes</td><td>0</td><td>Graduate</td><td>No</td><td>3667</td></tr><tr><th>29</th><td>LP001114</td><td>Male</td><td>No</td><td>0</td><td>Graduate</td><td>No</td><td>4166</td></tr><tr><th>30</th><td>LP001116</td><td>Male</td><td>No</td><td>0</td><td>Not Graduate</td><td>No</td><td>3748</td></tr><tr><th>&vellip;</th><td>&vellip;</td><td>&vellip;</td><td>&vellip;</td><td>&vellip;</td><td>&vellip;</td><td>&vellip;</td><td>&vellip;</td></tr></tbody></table>"
      ],
      "text/latex": [
       "\\begin{tabular}{r|cccccccc}\n",
       "\t& Loan\\_ID & Gender & Married & Dependents & Education & Self\\_Employed & ApplicantIncome & \\\\\n",
       "\t\\hline\n",
       "\t& String & String & String & String & String & String & Int64 & \\\\\n",
       "\t\\hline\n",
       "\t1 & LP001003 & Male & Yes & 1 & Graduate & No & 4583 & $\\dots$ \\\\\n",
       "\t2 & LP001005 & Male & Yes & 0 & Graduate & Yes & 3000 & $\\dots$ \\\\\n",
       "\t3 & LP001006 & Male & Yes & 0 & Not Graduate & No & 2583 & $\\dots$ \\\\\n",
       "\t4 & LP001008 & Male & No & 0 & Graduate & No & 6000 & $\\dots$ \\\\\n",
       "\t5 & LP001011 & Male & Yes & 2 & Graduate & Yes & 5417 & $\\dots$ \\\\\n",
       "\t6 & LP001013 & Male & Yes & 0 & Not Graduate & No & 2333 & $\\dots$ \\\\\n",
       "\t7 & LP001014 & Male & Yes & 3+ & Graduate & No & 3036 & $\\dots$ \\\\\n",
       "\t8 & LP001018 & Male & Yes & 2 & Graduate & No & 4006 & $\\dots$ \\\\\n",
       "\t9 & LP001020 & Male & Yes & 1 & Graduate & No & 12841 & $\\dots$ \\\\\n",
       "\t10 & LP001024 & Male & Yes & 2 & Graduate & No & 3200 & $\\dots$ \\\\\n",
       "\t11 & LP001028 & Male & Yes & 2 & Graduate & No & 3073 & $\\dots$ \\\\\n",
       "\t12 & LP001029 & Male & No & 0 & Graduate & No & 1853 & $\\dots$ \\\\\n",
       "\t13 & LP001030 & Male & Yes & 2 & Graduate & No & 1299 & $\\dots$ \\\\\n",
       "\t14 & LP001032 & Male & No & 0 & Graduate & No & 4950 & $\\dots$ \\\\\n",
       "\t15 & LP001036 & Female & No & 0 & Graduate & No & 3510 & $\\dots$ \\\\\n",
       "\t16 & LP001038 & Male & Yes & 0 & Not Graduate & No & 4887 & $\\dots$ \\\\\n",
       "\t17 & LP001043 & Male & Yes & 0 & Not Graduate & No & 7660 & $\\dots$ \\\\\n",
       "\t18 & LP001046 & Male & Yes & 1 & Graduate & No & 5955 & $\\dots$ \\\\\n",
       "\t19 & LP001047 & Male & Yes & 0 & Not Graduate & No & 2600 & $\\dots$ \\\\\n",
       "\t20 & LP001066 & Male & Yes & 0 & Graduate & Yes & 9560 & $\\dots$ \\\\\n",
       "\t21 & LP001068 & Male & Yes & 0 & Graduate & No & 2799 & $\\dots$ \\\\\n",
       "\t22 & LP001073 & Male & Yes & 2 & Not Graduate & No & 4226 & $\\dots$ \\\\\n",
       "\t23 & LP001086 & Male & No & 0 & Not Graduate & No & 1442 & $\\dots$ \\\\\n",
       "\t24 & LP001095 & Male & No & 0 & Graduate & No & 3167 & $\\dots$ \\\\\n",
       "\t25 & LP001097 & Male & No & 1 & Graduate & Yes & 4692 & $\\dots$ \\\\\n",
       "\t26 & LP001098 & Male & Yes & 0 & Graduate & No & 3500 & $\\dots$ \\\\\n",
       "\t27 & LP001100 & Male & No & 3+ & Graduate & No & 12500 & $\\dots$ \\\\\n",
       "\t28 & LP001112 & Female & Yes & 0 & Graduate & No & 3667 & $\\dots$ \\\\\n",
       "\t29 & LP001114 & Male & No & 0 & Graduate & No & 4166 & $\\dots$ \\\\\n",
       "\t30 & LP001116 & Male & No & 0 & Not Graduate & No & 3748 & $\\dots$ \\\\\n",
       "\t$\\dots$ & $\\dots$ & $\\dots$ & $\\dots$ & $\\dots$ & $\\dots$ & $\\dots$ & $\\dots$ &  \\\\\n",
       "\\end{tabular}\n"
      ],
      "text/plain": [
       "480×13 DataFrame. Omitted printing of 8 columns\n",
       "│ Row │ Loan_ID  │ Gender │ Married │ Dependents │ Education    │\n",
       "│     │ \u001b[90mString\u001b[39m   │ \u001b[90mString\u001b[39m │ \u001b[90mString\u001b[39m  │ \u001b[90mString\u001b[39m     │ \u001b[90mString\u001b[39m       │\n",
       "├─────┼──────────┼────────┼─────────┼────────────┼──────────────┤\n",
       "│ 1   │ LP001003 │ Male   │ Yes     │ 1          │ Graduate     │\n",
       "│ 2   │ LP001005 │ Male   │ Yes     │ 0          │ Graduate     │\n",
       "│ 3   │ LP001006 │ Male   │ Yes     │ 0          │ Not Graduate │\n",
       "│ 4   │ LP001008 │ Male   │ No      │ 0          │ Graduate     │\n",
       "│ 5   │ LP001011 │ Male   │ Yes     │ 2          │ Graduate     │\n",
       "│ 6   │ LP001013 │ Male   │ Yes     │ 0          │ Not Graduate │\n",
       "│ 7   │ LP001014 │ Male   │ Yes     │ 3+         │ Graduate     │\n",
       "│ 8   │ LP001018 │ Male   │ Yes     │ 2          │ Graduate     │\n",
       "│ 9   │ LP001020 │ Male   │ Yes     │ 1          │ Graduate     │\n",
       "│ 10  │ LP001024 │ Male   │ Yes     │ 2          │ Graduate     │\n",
       "⋮\n",
       "│ 470 │ LP002953 │ Male   │ Yes     │ 3+         │ Graduate     │\n",
       "│ 471 │ LP002958 │ Male   │ No      │ 0          │ Graduate     │\n",
       "│ 472 │ LP002959 │ Female │ Yes     │ 1          │ Graduate     │\n",
       "│ 473 │ LP002961 │ Male   │ Yes     │ 1          │ Graduate     │\n",
       "│ 474 │ LP002964 │ Male   │ Yes     │ 2          │ Not Graduate │\n",
       "│ 475 │ LP002974 │ Male   │ Yes     │ 0          │ Graduate     │\n",
       "│ 476 │ LP002978 │ Female │ No      │ 0          │ Graduate     │\n",
       "│ 477 │ LP002979 │ Male   │ Yes     │ 3+         │ Graduate     │\n",
       "│ 478 │ LP002983 │ Male   │ Yes     │ 1          │ Graduate     │\n",
       "│ 479 │ LP002984 │ Male   │ Yes     │ 2          │ Graduate     │\n",
       "│ 480 │ LP002990 │ Female │ No      │ 0          │ Graduate     │"
      ]
     },
     "execution_count": 12,
     "metadata": {},
     "output_type": "execute_result"
    }
   ],
   "source": [
    "train_nona = dropmissing(train)\n",
    "test_nona = dropmissing(test)"
   ]
  },
  {
   "cell_type": "markdown",
   "metadata": {},
   "source": [
    "## Label encoder"
   ]
  },
  {
   "cell_type": "code",
   "execution_count": 13,
   "metadata": {
    "ExecuteTime": {
     "end_time": "2019-06-29T13:36:10.768000+02:00",
     "start_time": "2019-06-29T11:35:19.388Z"
    }
   },
   "outputs": [
    {
     "name": "stdout",
     "output_type": "stream",
     "text": [
      "\u001b[32m\u001b[1m Resolving\u001b[22m\u001b[39m package versions...\n",
      "\u001b[32m\u001b[1m  Updating\u001b[22m\u001b[39m `~/.julia/environments/v1.1/Project.toml`\n",
      "\u001b[90m [no changes]\u001b[39m\n",
      "\u001b[32m\u001b[1m  Updating\u001b[22m\u001b[39m `~/.julia/environments/v1.1/Manifest.toml`\n",
      "\u001b[90m [no changes]\u001b[39m\n"
     ]
    },
    {
     "name": "stderr",
     "output_type": "stream",
     "text": [
      "┌ Warning: `getindex(o::PyObject, s::Symbol)` is deprecated in favor of dot overloading (`getproperty`) so elements should now be accessed as e.g. `o.s` instead of `o[:s]`.\n",
      "│   caller = import_sklearn() at Skcore.jl:120\n",
      "└ @ ScikitLearn.Skcore /Users/sandrapietrowska/.julia/packages/ScikitLearn/HK6Vs/src/Skcore.jl:120\n",
      "┌ Warning: `getindex(o::PyObject, s::Symbol)` is deprecated in favor of dot overloading (`getproperty`) so elements should now be accessed as e.g. `o.s` instead of `o[:s]`.\n",
      "│   caller = top-level scope at Skcore.jl:158\n",
      "└ @ Core /Users/sandrapietrowska/.julia/packages/ScikitLearn/HK6Vs/src/Skcore.jl:158\n"
     ]
    },
    {
     "data": {
      "text/plain": [
       "PyObject <class 'sklearn.preprocessing.label.LabelEncoder'>"
      ]
     },
     "execution_count": 13,
     "metadata": {},
     "output_type": "execute_result"
    }
   ],
   "source": [
    "Pkg.add(\"ScikitLearn\")\n",
    "using ScikitLearn \n",
    "@sk_import preprocessing: LabelEncoder "
   ]
  },
  {
   "cell_type": "markdown",
   "metadata": {},
   "source": [
    "### Apply <em>fit_transform!</em> to for each category"
   ]
  },
  {
   "cell_type": "code",
   "execution_count": 14,
   "metadata": {
    "ExecuteTime": {
     "end_time": "2019-06-29T13:36:12.621000+02:00",
     "start_time": "2019-06-29T11:35:19.390Z"
    }
   },
   "outputs": [
    {
     "data": {
      "text/plain": [
       "1×7 Array{Int64,2}:\n",
       " 2  3  4  5  6  12  13"
      ]
     },
     "execution_count": 14,
     "metadata": {},
     "output_type": "execute_result"
    }
   ],
   "source": [
    "labelencoder = LabelEncoder() \n",
    "categories = [2 3 4 5 6 12 13] "
   ]
  },
  {
   "cell_type": "code",
   "execution_count": null,
   "metadata": {
    "solution2": "hidden",
    "solution2_first": true
   },
   "outputs": [],
   "source": []
  },
  {
   "cell_type": "code",
   "execution_count": 15,
   "metadata": {
    "ExecuteTime": {
     "end_time": "2019-06-29T13:36:13.114000+02:00",
     "start_time": "2019-06-29T11:35:19.393Z"
    },
    "solution2": "hidden"
   },
   "outputs": [
    {
     "name": "stderr",
     "output_type": "stream",
     "text": [
      "┌ Warning: `getindex(o::PyObject, s::Symbol)` is deprecated in favor of dot overloading (`getproperty`) so elements should now be accessed as e.g. `o.s` instead of `o[:s]`.\n",
      "│   caller = #fit_transform!#25(::Base.Iterators.Pairs{Union{},Union{},Tuple{},NamedTuple{(),Tuple{}}}, ::Function, ::PyCall.PyObject, ::Array{String,1}) at Skcore.jl:100\n",
      "└ @ ScikitLearn.Skcore /Users/sandrapietrowska/.julia/packages/ScikitLearn/HK6Vs/src/Skcore.jl:100\n"
     ]
    }
   ],
   "source": [
    "for col in categories \n",
    "     train_nona[col] = fit_transform!(labelencoder, train_nona[col]) \n",
    "end"
   ]
  },
  {
   "cell_type": "markdown",
   "metadata": {},
   "source": [
    "### Using convert function create label (y), train(X) and test(X2) arrays"
   ]
  },
  {
   "cell_type": "code",
   "execution_count": 16,
   "metadata": {
    "ExecuteTime": {
     "end_time": "2019-06-29T13:36:13.467000+02:00",
     "start_time": "2019-06-29T11:35:19.395Z"
    }
   },
   "outputs": [
    {
     "data": {
      "text/plain": [
       "9-element Array{Symbol,1}:\n",
       " :Gender          \n",
       " :Married         \n",
       " :Dependents      \n",
       " :Education       \n",
       " :Self_Employed   \n",
       " :Loan_Amount_Term\n",
       " :Credit_History  \n",
       " :Property_Area   \n",
       " :LoanAmount      "
      ]
     },
     "execution_count": 16,
     "metadata": {},
     "output_type": "execute_result"
    }
   ],
   "source": [
    "predictors = [:Gender, :Married, :Dependents, :Education, :Self_Employed, \n",
    "    :Loan_Amount_Term, :Credit_History, :Property_Area, :LoanAmount]"
   ]
  },
  {
   "cell_type": "code",
   "execution_count": null,
   "metadata": {
    "solution2": "hidden",
    "solution2_first": true
   },
   "outputs": [],
   "source": []
  },
  {
   "cell_type": "code",
   "execution_count": 17,
   "metadata": {
    "ExecuteTime": {
     "end_time": "2019-06-29T13:36:14.570000+02:00",
     "start_time": "2019-06-29T11:35:19.397Z"
    },
    "solution2": "hidden"
   },
   "outputs": [
    {
     "name": "stderr",
     "output_type": "stream",
     "text": [
      "┌ Warning: `convert(::Type{Array}, df::AbstractDataFrame)` is deprecated, use `convert(Matrix, df)` instead.\n",
      "│   caller = top-level scope at In[17]:2\n",
      "└ @ Core In[17]:2\n",
      "┌ Warning: `convert(::Type{Array}, df::AbstractDataFrame)` is deprecated, use `convert(Matrix, df)` instead.\n",
      "│   caller = top-level scope at In[17]:3\n",
      "└ @ Core In[17]:3\n"
     ]
    },
    {
     "data": {
      "text/plain": [
       "480×9 Array{Any,2}:\n",
       " \"Male\"    \"Yes\"  \"1\"   \"Graduate\"      \"No\"   360  1  \"Rural\"      128\n",
       " \"Male\"    \"Yes\"  \"0\"   \"Graduate\"      \"Yes\"  360  1  \"Urban\"       66\n",
       " \"Male\"    \"Yes\"  \"0\"   \"Not Graduate\"  \"No\"   360  1  \"Urban\"      120\n",
       " \"Male\"    \"No\"   \"0\"   \"Graduate\"      \"No\"   360  1  \"Urban\"      141\n",
       " \"Male\"    \"Yes\"  \"2\"   \"Graduate\"      \"Yes\"  360  1  \"Urban\"      267\n",
       " \"Male\"    \"Yes\"  \"0\"   \"Not Graduate\"  \"No\"   360  1  \"Urban\"       95\n",
       " \"Male\"    \"Yes\"  \"3+\"  \"Graduate\"      \"No\"   360  0  \"Semiurban\"  158\n",
       " \"Male\"    \"Yes\"  \"2\"   \"Graduate\"      \"No\"   360  1  \"Urban\"      168\n",
       " \"Male\"    \"Yes\"  \"1\"   \"Graduate\"      \"No\"   360  1  \"Semiurban\"  349\n",
       " \"Male\"    \"Yes\"  \"2\"   \"Graduate\"      \"No\"   360  1  \"Urban\"       70\n",
       " \"Male\"    \"Yes\"  \"2\"   \"Graduate\"      \"No\"   360  1  \"Urban\"      200\n",
       " \"Male\"    \"No\"   \"0\"   \"Graduate\"      \"No\"   360  1  \"Rural\"      114\n",
       " \"Male\"    \"Yes\"  \"2\"   \"Graduate\"      \"No\"   120  1  \"Urban\"       17\n",
       " ⋮                                               ⋮                     \n",
       " \"Male\"    \"Yes\"  \"2\"   \"Graduate\"      \"No\"   360  1  \"Urban\"      192\n",
       " \"Male\"    \"Yes\"  \"3+\"  \"Graduate\"      \"No\"   360  1  \"Urban\"      128\n",
       " \"Male\"    \"No\"   \"0\"   \"Graduate\"      \"No\"   360  1  \"Rural\"      172\n",
       " \"Female\"  \"Yes\"  \"1\"   \"Graduate\"      \"No\"   360  1  \"Semiurban\"  496\n",
       " \"Male\"    \"Yes\"  \"1\"   \"Graduate\"      \"No\"   360  1  \"Semiurban\"  173\n",
       " \"Male\"    \"Yes\"  \"2\"   \"Not Graduate\"  \"No\"   360  1  \"Rural\"      157\n",
       " \"Male\"    \"Yes\"  \"0\"   \"Graduate\"      \"No\"   360  1  \"Rural\"      108\n",
       " \"Female\"  \"No\"   \"0\"   \"Graduate\"      \"No\"   360  1  \"Rural\"       71\n",
       " \"Male\"    \"Yes\"  \"3+\"  \"Graduate\"      \"No\"   180  1  \"Rural\"       40\n",
       " \"Male\"    \"Yes\"  \"1\"   \"Graduate\"      \"No\"   360  1  \"Urban\"      253\n",
       " \"Male\"    \"Yes\"  \"2\"   \"Graduate\"      \"No\"   360  1  \"Urban\"      187\n",
       " \"Female\"  \"No\"   \"0\"   \"Graduate\"      \"Yes\"  360  0  \"Semiurban\"  133"
      ]
     },
     "execution_count": 17,
     "metadata": {},
     "output_type": "execute_result"
    }
   ],
   "source": [
    "y = convert(Array, train_nona[:13]) \n",
    "X = convert(Array, train_nona[predictors]) \n",
    "X2 = convert(Array, test_nona[predictors]) "
   ]
  },
  {
   "cell_type": "markdown",
   "metadata": {},
   "source": [
    "## Fit model using ScikitLearn"
   ]
  },
  {
   "cell_type": "code",
   "execution_count": 18,
   "metadata": {
    "ExecuteTime": {
     "end_time": "2019-06-29T13:36:21.768000+02:00",
     "start_time": "2019-06-29T11:35:19.399Z"
    }
   },
   "outputs": [
    {
     "name": "stdout",
     "output_type": "stream",
     "text": [
      "\u001b[32m\u001b[1m Resolving\u001b[22m\u001b[39m package versions...\n",
      "\u001b[32m\u001b[1m  Updating\u001b[22m\u001b[39m `~/.julia/environments/v1.1/Project.toml`\n",
      "\u001b[90m [no changes]\u001b[39m\n",
      "\u001b[32m\u001b[1m  Updating\u001b[22m\u001b[39m `~/.julia/environments/v1.1/Manifest.toml`\n",
      "\u001b[90m [no changes]\u001b[39m\n"
     ]
    },
    {
     "name": "stderr",
     "output_type": "stream",
     "text": [
      "┌ Warning: `getindex(o::PyObject, s::Symbol)` is deprecated in favor of dot overloading (`getproperty`) so elements should now be accessed as e.g. `o.s` instead of `o[:s]`.\n",
      "│   caller = top-level scope at Skcore.jl:158\n",
      "└ @ Core /Users/sandrapietrowska/.julia/packages/ScikitLearn/HK6Vs/src/Skcore.jl:158\n"
     ]
    }
   ],
   "source": [
    "Pkg.add(\"ScikitLearn\")\n",
    "using ScikitLearn \n",
    "@sk_import linear_model: LogisticRegression\n",
    "using ScikitLearn: fit!, predict"
   ]
  },
  {
   "cell_type": "code",
   "execution_count": 19,
   "metadata": {
    "ExecuteTime": {
     "end_time": "2019-06-29T13:36:22.164000+02:00",
     "start_time": "2019-06-29T11:35:19.401Z"
    }
   },
   "outputs": [
    {
     "name": "stderr",
     "output_type": "stream",
     "text": [
      "┌ Warning: `getindex(o::PyObject, s::Symbol)` is deprecated in favor of dot overloading (`getproperty`) so elements should now be accessed as e.g. `o.s` instead of `o[:s]`.\n",
      "│   caller = #fit!#31(::Base.Iterators.Pairs{Union{},Union{},Tuple{},NamedTuple{(),Tuple{}}}, ::Function, ::PyCall.PyObject, ::Array{Int64,2}, ::Vararg{Any,N} where N) at Skcore.jl:100\n",
      "└ @ ScikitLearn.Skcore /Users/sandrapietrowska/.julia/packages/ScikitLearn/HK6Vs/src/Skcore.jl:100\n",
      "┌ Warning: `getindex(o::PyObject, s::Symbol)` is deprecated in favor of dot overloading (`getproperty`) so elements should now be accessed as e.g. `o.s` instead of `o[:s]`.\n",
      "│   caller = tweak_rval(::PyCall.PyObject) at Skcore.jl:92\n",
      "└ @ ScikitLearn.Skcore /Users/sandrapietrowska/.julia/packages/ScikitLearn/HK6Vs/src/Skcore.jl:92\n"
     ]
    },
    {
     "data": {
      "text/plain": [
       "PyObject LogisticRegression(C=1.0, class_weight=None, dual=False, fit_intercept=True,\n",
       "                   intercept_scaling=1, l1_ratio=None, max_iter=100,\n",
       "                   multi_class='warn', n_jobs=None, penalty='l2',\n",
       "                   random_state=None, solver='warn', tol=0.0001, verbose=0,\n",
       "                   warm_start=False)"
      ]
     },
     "execution_count": 19,
     "metadata": {},
     "output_type": "execute_result"
    }
   ],
   "source": [
    "model = LogisticRegression()\n",
    "fit!(model, X, y) "
   ]
  },
  {
   "cell_type": "code",
   "execution_count": 20,
   "metadata": {
    "ExecuteTime": {
     "end_time": "2019-06-29T13:36:22.808000+02:00",
     "start_time": "2019-06-29T11:35:19.403Z"
    }
   },
   "outputs": [
    {
     "name": "stderr",
     "output_type": "stream",
     "text": [
      "┌ Warning: `getindex(o::PyObject, s::Symbol)` is deprecated in favor of dot overloading (`getproperty`) so elements should now be accessed as e.g. `o.s` instead of `o[:s]`.\n",
      "│   caller = #predict#26(::Base.Iterators.Pairs{Union{},Union{},Tuple{},NamedTuple{(),Tuple{}}}, ::Function, ::PyCall.PyObject, ::Array{Int64,2}) at Skcore.jl:100\n",
      "└ @ ScikitLearn.Skcore /Users/sandrapietrowska/.julia/packages/ScikitLearn/HK6Vs/src/Skcore.jl:100\n"
     ]
    },
    {
     "data": {
      "text/plain": [
       "480-element Array{Int64,1}:\n",
       " 1\n",
       " 1\n",
       " 1\n",
       " 1\n",
       " 1\n",
       " 1\n",
       " 0\n",
       " 1\n",
       " 1\n",
       " 1\n",
       " 1\n",
       " 1\n",
       " 1\n",
       " ⋮\n",
       " 1\n",
       " 1\n",
       " 1\n",
       " 1\n",
       " 1\n",
       " 1\n",
       " 1\n",
       " 1\n",
       " 1\n",
       " 1\n",
       " 1\n",
       " 0"
      ]
     },
     "execution_count": 20,
     "metadata": {},
     "output_type": "execute_result"
    }
   ],
   "source": [
    "predictions = predict(model, X) "
   ]
  },
  {
   "cell_type": "markdown",
   "metadata": {},
   "source": [
    "## Evaluation"
   ]
  },
  {
   "cell_type": "markdown",
   "metadata": {},
   "source": [
    "### Calculate accuracy"
   ]
  },
  {
   "cell_type": "code",
   "execution_count": 21,
   "metadata": {
    "ExecuteTime": {
     "end_time": "2019-06-29T13:36:22.810000+02:00",
     "start_time": "2019-06-29T11:35:19.405Z"
    }
   },
   "outputs": [
    {
     "name": "stderr",
     "output_type": "stream",
     "text": [
      "┌ Warning: `getindex(o::PyObject, s::Symbol)` is deprecated in favor of dot overloading (`getproperty`) so elements should now be accessed as e.g. `o.s` instead of `o[:s]`.\n",
      "│   caller = top-level scope at Skcore.jl:158\n",
      "└ @ Core /Users/sandrapietrowska/.julia/packages/ScikitLearn/HK6Vs/src/Skcore.jl:158\n"
     ]
    },
    {
     "data": {
      "text/plain": [
       "PyObject <function accuracy_score at 0x1a49d881e0>"
      ]
     },
     "execution_count": 21,
     "metadata": {},
     "output_type": "execute_result"
    }
   ],
   "source": [
    "@sk_import metrics: accuracy_score "
   ]
  },
  {
   "cell_type": "code",
   "execution_count": null,
   "metadata": {
    "solution2": "hidden",
    "solution2_first": true
   },
   "outputs": [],
   "source": []
  },
  {
   "cell_type": "code",
   "execution_count": 22,
   "metadata": {
    "ExecuteTime": {
     "end_time": "2019-06-29T13:36:22.928000+02:00",
     "start_time": "2019-06-29T11:35:19.407Z"
    },
    "solution2": "hidden"
   },
   "outputs": [
    {
     "name": "stdout",
     "output_type": "stream",
     "text": [
      "Accuracy : 0.8083333333333333\n"
     ]
    }
   ],
   "source": [
    "accuracy = accuracy_score(predictions, y) \n",
    "println(\"Accuracy : \", accuracy) "
   ]
  },
  {
   "cell_type": "markdown",
   "metadata": {
    "ExecuteTime": {
     "end_time": "2019-06-29T13:03:30.121000+02:00",
     "start_time": "2019-06-29T11:03:29.096Z"
    }
   },
   "source": [
    "### Import <em>cross_val_score</em> from model_selection module. Use <em>cross_val_score</em> to do cross validation with 5 folds"
   ]
  },
  {
   "cell_type": "code",
   "execution_count": null,
   "metadata": {
    "solution2": "hidden",
    "solution2_first": true
   },
   "outputs": [],
   "source": []
  },
  {
   "cell_type": "code",
   "execution_count": 23,
   "metadata": {
    "ExecuteTime": {
     "end_time": "2019-06-29T13:36:23.975000+02:00",
     "start_time": "2019-06-29T11:35:19.410Z"
    },
    "solution2": "hidden"
   },
   "outputs": [
    {
     "name": "stderr",
     "output_type": "stream",
     "text": [
      "┌ Warning: Module model_selection has been ported to Julia - try `import ScikitLearn: CrossValidation` instead\n",
      "└ @ ScikitLearn.Skcore /Users/sandrapietrowska/.julia/packages/ScikitLearn/HK6Vs/src/Skcore.jl:140\n",
      "┌ Warning: `getindex(o::PyObject, s::Symbol)` is deprecated in favor of dot overloading (`getproperty`) so elements should now be accessed as e.g. `o.s` instead of `o[:s]`.\n",
      "│   caller = top-level scope at Skcore.jl:158\n",
      "└ @ Core /Users/sandrapietrowska/.julia/packages/ScikitLearn/HK6Vs/src/Skcore.jl:158\n"
     ]
    },
    {
     "data": {
      "text/plain": [
       "5-element Array{Float64,1}:\n",
       " 0.8041237113402062\n",
       " 0.7835051546391752\n",
       " 0.7708333333333334\n",
       " 0.8631578947368421\n",
       " 0.7894736842105263"
      ]
     },
     "execution_count": 23,
     "metadata": {},
     "output_type": "execute_result"
    }
   ],
   "source": [
    "@sk_import model_selection: cross_val_score  \n",
    "cross_score = cross_val_score(model, X, y, cv=5)"
   ]
  },
  {
   "cell_type": "code",
   "execution_count": null,
   "metadata": {},
   "outputs": [],
   "source": []
  }
 ],
 "metadata": {
  "kernelspec": {
   "display_name": "Julia 1.1.1",
   "language": "julia",
   "name": "julia-1.1"
  },
  "language_info": {
   "file_extension": ".jl",
   "mimetype": "application/julia",
   "name": "julia",
   "version": "1.1.1"
  },
  "toc": {
   "base_numbering": 1,
   "nav_menu": {},
   "number_sections": true,
   "sideBar": true,
   "skip_h1_title": false,
   "title_cell": "Table of Contents",
   "title_sidebar": "Contents",
   "toc_cell": false,
   "toc_position": {},
   "toc_section_display": true,
   "toc_window_display": false
  }
 },
 "nbformat": 4,
 "nbformat_minor": 2
}
